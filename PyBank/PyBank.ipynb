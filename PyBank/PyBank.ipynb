{
 "cells": [
  {
   "cell_type": "code",
   "execution_count": 2,
   "metadata": {},
   "outputs": [
    {
     "name": "stdout",
     "output_type": "stream",
     "text": [
      "/Users/faisal/Desktop/SMU_FINTECH_BOOTCAMP/clone2/smu-dal-fin-pt-07-2020-u-c/02-Homework/02-Python/Instructions/PyBank\n"
     ]
    }
   ],
   "source": [
    "from pathlib import Path\n",
    "import csv\n",
    "print(f\"{Path.cwd()}\")\n"
   ]
  },
  {
   "cell_type": "code",
   "execution_count": 3,
   "metadata": {},
   "outputs": [],
   "source": [
    "budget_path = Path(\"Resources/budget_data.csv\")\n"
   ]
  },
  {
   "cell_type": "code",
   "execution_count": 42,
   "metadata": {},
   "outputs": [
    {
     "name": "stdout",
     "output_type": "stream",
     "text": [
      "Financial Analysis\n",
      "Total Months: 86\n",
      "Total: 38382578\n",
      "Average change: -2315.12\n",
      "Greatest Increase in Profits: Feb-2012 (1926159)\n",
      "Greatest Deacrease in Profits: Sep-2013 (-2196167)\n",
      "Financial Analysis\n",
      "Total Months: 86\n",
      "Total: 38382578\n",
      "Average change: -2315.12\n",
      "Greatest Increase in Profits: Feb-2012 (1926159)\n",
      "Greatest Deacrease in Profits: Sep-2013 (-2196167)\n"
     ]
    }
   ],
   "source": [
    "profittotal = 0\n",
    "monthCount = 0\n",
    "previousmonthprofit = 0\n",
    "maxincrease = 0\n",
    "maxdecrease = 0\n",
    "maxdate = \"\"\n",
    "mindate = \"\"\n",
    "change = []\n",
    "\n",
    "\n",
    "with open (budget_path, 'r') as budget:\n",
    "    readCSV = csv.reader(budget, delimiter=',')\n",
    "    next(readCSV) #skip header\n",
    "    \n",
    "    #month = len(list(readCSV))\n",
    "    #print(month)\n",
    "    for line in readCSV:\n",
    "        #print(line[1])\n",
    "        #print(line[0])\n",
    "        #print(line)\n",
    "        monthCount = monthCount+1\n",
    "        profittotal = profittotal + int(line[1])\n",
    "        if monthCount > 1:\n",
    "            change.append(int(line[1]) - previousmonthprofit)\n",
    "                \n",
    "        if int(line[1])-previousmonthprofit > maxincrease and monthCount > 1:\n",
    "            #previousmonthprofit < int(line[1]):\n",
    "            maxincrease = int(line[1])-previousmonthprofit\n",
    "            maxdate = line[0]\n",
    "            #print(line[0])\n",
    "            \n",
    "        \n",
    "        if int(line[1]) - previousmonthprofit < maxdecrease and monthCount >1:\n",
    "            maxdecrease = int(line[1]) - previousmonthprofit\n",
    "            mindate = line[0]\n",
    "            \n",
    "        \n",
    "        previousmonthprofit = int(line[1])\n",
    "        \n",
    "        #number = int()\n",
    "        #profittotal += number\n",
    "   \n",
    "    #print(profittotal)\n",
    "print(\"Financial Analysis\")\n",
    "print(f\"Total Months: {monthCount}\")    \n",
    "print(f\"Total: {profittotal}\")  \n",
    "\n",
    "AverageProfit = sum(change)/len(change)\n",
    "print(f\"Average change: {round(AverageProfit,2)}\")\n",
    "print(f\"Greatest Increase in Profits: {maxdate} ({maxincrease})\")\n",
    "print(f\"Greatest Deacrease in Profits: {mindate} ({maxdecrease})\")\n",
    "\n"
   ]
  },
  {
   "cell_type": "code",
   "execution_count": null,
   "metadata": {},
   "outputs": [],
   "source": []
  },
  {
   "cell_type": "code",
   "execution_count": null,
   "metadata": {},
   "outputs": [],
   "source": []
  }
 ],
 "metadata": {
  "kernelspec": {
   "display_name": "Python 3",
   "language": "python",
   "name": "python3"
  },
  "language_info": {
   "codemirror_mode": {
    "name": "ipython",
    "version": 3
   },
   "file_extension": ".py",
   "mimetype": "text/x-python",
   "name": "python",
   "nbconvert_exporter": "python",
   "pygments_lexer": "ipython3",
   "version": "3.7.7"
  }
 },
 "nbformat": 4,
 "nbformat_minor": 4
}
